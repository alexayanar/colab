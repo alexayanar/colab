{
  "nbformat": 4,
  "nbformat_minor": 0,
  "metadata": {
    "kernelspec": {
      "display_name": "Python 3",
      "language": "python",
      "name": "python3"
    },
    "language_info": {
      "codemirror_mode": {
        "name": "ipython",
        "version": 3
      },
      "file_extension": ".py",
      "mimetype": "text/x-python",
      "name": "python",
      "nbconvert_exporter": "python",
      "pygments_lexer": "ipython3",
      "version": "3.6.4"
    },
    "colab": {
      "name": "Copy of apply-a-function-to-every-row-in-a-pandas-dataframe-QTM350.ipynb",
      "provenance": [],
      "collapsed_sections": [],
      "toc_visible": true,
      "include_colab_link": true
    }
  },
  "cells": [
    {
      "cell_type": "markdown",
      "metadata": {
        "id": "view-in-github",
        "colab_type": "text"
      },
      "source": [
        "<a href=\"https://colab.research.google.com/github/alexayanar/colab/blob/master/Copy_of_apply_a_function_to_every_row_in_a_pandas_dataframe_QTM350.ipynb\" target=\"_parent\"><img src=\"https://colab.research.google.com/assets/colab-badge.svg\" alt=\"Open In Colab\"/></a>"
      ]
    },
    {
      "cell_type": "code",
      "metadata": {
        "id": "yGvM4PaBV8g4",
        "colab_type": "code",
        "colab": {}
      },
      "source": [
        "import pandas as pd"
      ],
      "execution_count": 0,
      "outputs": []
    },
    {
      "cell_type": "markdown",
      "metadata": {
        "id": "-w1M15MhV8g8",
        "colab_type": "text"
      },
      "source": [
        "## Use `.apply` to send a column of every row to a function\n",
        "\n",
        "You can use `.apply` to send a single column to a function. This is useful when cleaning up data - converting formats, altering values etc."
      ]
    },
    {
      "cell_type": "code",
      "metadata": {
        "id": "7RUvTOD-V8g9",
        "colab_type": "code",
        "outputId": "07ee7d49-46cf-4974-92e1-ada9b4253c9d",
        "colab": {
          "base_uri": "https://localhost:8080/",
          "height": 359
        }
      },
      "source": [
        "# What's our data look like?\n",
        "df = pd.read_csv(\"https://raw.githubusercontent.com/jeremyallenjacobson/RealRootsReproduction/master/train-1-10-2.csv\", header=None)\n",
        "df.head(10)"
      ],
      "execution_count": 29,
      "outputs": [
        {
          "output_type": "execute_result",
          "data": {
            "text/html": [
              "<div>\n",
              "<style scoped>\n",
              "    .dataframe tbody tr th:only-of-type {\n",
              "        vertical-align: middle;\n",
              "    }\n",
              "\n",
              "    .dataframe tbody tr th {\n",
              "        vertical-align: top;\n",
              "    }\n",
              "\n",
              "    .dataframe thead th {\n",
              "        text-align: right;\n",
              "    }\n",
              "</style>\n",
              "<table border=\"1\" class=\"dataframe\">\n",
              "  <thead>\n",
              "    <tr style=\"text-align: right;\">\n",
              "      <th></th>\n",
              "      <th>0</th>\n",
              "      <th>1</th>\n",
              "      <th>2</th>\n",
              "      <th>3</th>\n",
              "    </tr>\n",
              "  </thead>\n",
              "  <tbody>\n",
              "    <tr>\n",
              "      <th>0</th>\n",
              "      <td>8</td>\n",
              "      <td>6</td>\n",
              "      <td>10</td>\n",
              "      <td>0</td>\n",
              "    </tr>\n",
              "    <tr>\n",
              "      <th>1</th>\n",
              "      <td>4</td>\n",
              "      <td>9</td>\n",
              "      <td>8</td>\n",
              "      <td>0</td>\n",
              "    </tr>\n",
              "    <tr>\n",
              "      <th>2</th>\n",
              "      <td>6</td>\n",
              "      <td>2</td>\n",
              "      <td>5</td>\n",
              "      <td>0</td>\n",
              "    </tr>\n",
              "    <tr>\n",
              "      <th>3</th>\n",
              "      <td>3</td>\n",
              "      <td>6</td>\n",
              "      <td>6</td>\n",
              "      <td>0</td>\n",
              "    </tr>\n",
              "    <tr>\n",
              "      <th>4</th>\n",
              "      <td>5</td>\n",
              "      <td>10</td>\n",
              "      <td>8</td>\n",
              "      <td>0</td>\n",
              "    </tr>\n",
              "    <tr>\n",
              "      <th>5</th>\n",
              "      <td>10</td>\n",
              "      <td>2</td>\n",
              "      <td>6</td>\n",
              "      <td>0</td>\n",
              "    </tr>\n",
              "    <tr>\n",
              "      <th>6</th>\n",
              "      <td>8</td>\n",
              "      <td>8</td>\n",
              "      <td>9</td>\n",
              "      <td>0</td>\n",
              "    </tr>\n",
              "    <tr>\n",
              "      <th>7</th>\n",
              "      <td>5</td>\n",
              "      <td>9</td>\n",
              "      <td>1</td>\n",
              "      <td>1</td>\n",
              "    </tr>\n",
              "    <tr>\n",
              "      <th>8</th>\n",
              "      <td>9</td>\n",
              "      <td>10</td>\n",
              "      <td>5</td>\n",
              "      <td>0</td>\n",
              "    </tr>\n",
              "    <tr>\n",
              "      <th>9</th>\n",
              "      <td>5</td>\n",
              "      <td>3</td>\n",
              "      <td>5</td>\n",
              "      <td>0</td>\n",
              "    </tr>\n",
              "  </tbody>\n",
              "</table>\n",
              "</div>"
            ],
            "text/plain": [
              "    0   1   2  3\n",
              "0   8   6  10  0\n",
              "1   4   9   8  0\n",
              "2   6   2   5  0\n",
              "3   3   6   6  0\n",
              "4   5  10   8  0\n",
              "5  10   2   6  0\n",
              "6   8   8   9  0\n",
              "7   5   9   1  1\n",
              "8   9  10   5  0\n",
              "9   5   3   5  0"
            ]
          },
          "metadata": {
            "tags": []
          },
          "execution_count": 29
        }
      ]
    },
    {
      "cell_type": "markdown",
      "metadata": {
        "id": "N3VUeaKemDQz",
        "colab_type": "text"
      },
      "source": [
        "Below we define the discriminant function which takes as input `x=[a,b,c]` a list of coefficients of a polynomial\n",
        "$$\n",
        "ax^2+bx+c\n",
        "$$\n",
        "and returns its mathematical discriminant\n",
        " $$b^2-4ac$$"
      ]
    },
    {
      "cell_type": "code",
      "metadata": {
        "id": "VaJgyFMuV8hB",
        "colab_type": "code",
        "colab": {}
      },
      "source": [
        "def discriminant(x):\n",
        "    return x[1]**2 - 4*x[2]*x[0]"
      ],
      "execution_count": 0,
      "outputs": []
    },
    {
      "cell_type": "code",
      "metadata": {
        "id": "j2x6YHBfujdP",
        "colab_type": "code",
        "colab": {}
      },
      "source": [
        "def degree(x):\n",
        "  if x[0] != 0:\n",
        "    return 2\n",
        "  if x[1] != 0:\n",
        "    return 1\n",
        "  else: \n",
        "    return 0"
      ],
      "execution_count": 0,
      "outputs": []
    },
    {
      "cell_type": "code",
      "metadata": {
        "id": "Tsw_UM2Wu-ML",
        "colab_type": "code",
        "colab": {
          "base_uri": "https://localhost:8080/",
          "height": 34
        },
        "outputId": "05c0205d-48bc-4397-a48d-ea72b57efd0a"
      },
      "source": [
        "x = [0,2,3]\n",
        "print(degree(x))\n"
      ],
      "execution_count": 9,
      "outputs": [
        {
          "output_type": "stream",
          "text": [
            "1\n"
          ],
          "name": "stdout"
        }
      ]
    },
    {
      "cell_type": "markdown",
      "metadata": {
        "id": "0Ldlqkmvl5Pn",
        "colab_type": "text"
      },
      "source": [
        "Now let's apply this function, using the previous columns as input. \n",
        "\n",
        "### How do we pass in the entries of the columns as input?\n",
        "We select the first three columns using `loc` and use *slicing* by passing to the column index `0:2`. We pass `:` to the row index as we want all rows."
      ]
    },
    {
      "cell_type": "code",
      "metadata": {
        "id": "tehvsXvdmyV6",
        "colab_type": "code",
        "outputId": "44aa29aa-38c4-4fea-c8b0-2b1e7f0a42fb",
        "colab": {
          "base_uri": "https://localhost:8080/",
          "height": 419
        }
      },
      "source": [
        "df.loc[:,0:2]"
      ],
      "execution_count": 31,
      "outputs": [
        {
          "output_type": "execute_result",
          "data": {
            "text/html": [
              "<div>\n",
              "<style scoped>\n",
              "    .dataframe tbody tr th:only-of-type {\n",
              "        vertical-align: middle;\n",
              "    }\n",
              "\n",
              "    .dataframe tbody tr th {\n",
              "        vertical-align: top;\n",
              "    }\n",
              "\n",
              "    .dataframe thead th {\n",
              "        text-align: right;\n",
              "    }\n",
              "</style>\n",
              "<table border=\"1\" class=\"dataframe\">\n",
              "  <thead>\n",
              "    <tr style=\"text-align: right;\">\n",
              "      <th></th>\n",
              "      <th>0</th>\n",
              "      <th>1</th>\n",
              "      <th>2</th>\n",
              "    </tr>\n",
              "  </thead>\n",
              "  <tbody>\n",
              "    <tr>\n",
              "      <th>0</th>\n",
              "      <td>8</td>\n",
              "      <td>6</td>\n",
              "      <td>10</td>\n",
              "    </tr>\n",
              "    <tr>\n",
              "      <th>1</th>\n",
              "      <td>4</td>\n",
              "      <td>9</td>\n",
              "      <td>8</td>\n",
              "    </tr>\n",
              "    <tr>\n",
              "      <th>2</th>\n",
              "      <td>6</td>\n",
              "      <td>2</td>\n",
              "      <td>5</td>\n",
              "    </tr>\n",
              "    <tr>\n",
              "      <th>3</th>\n",
              "      <td>3</td>\n",
              "      <td>6</td>\n",
              "      <td>6</td>\n",
              "    </tr>\n",
              "    <tr>\n",
              "      <th>4</th>\n",
              "      <td>5</td>\n",
              "      <td>10</td>\n",
              "      <td>8</td>\n",
              "    </tr>\n",
              "    <tr>\n",
              "      <th>...</th>\n",
              "      <td>...</td>\n",
              "      <td>...</td>\n",
              "      <td>...</td>\n",
              "    </tr>\n",
              "    <tr>\n",
              "      <th>695</th>\n",
              "      <td>5</td>\n",
              "      <td>3</td>\n",
              "      <td>1</td>\n",
              "    </tr>\n",
              "    <tr>\n",
              "      <th>696</th>\n",
              "      <td>4</td>\n",
              "      <td>8</td>\n",
              "      <td>3</td>\n",
              "    </tr>\n",
              "    <tr>\n",
              "      <th>697</th>\n",
              "      <td>5</td>\n",
              "      <td>5</td>\n",
              "      <td>8</td>\n",
              "    </tr>\n",
              "    <tr>\n",
              "      <th>698</th>\n",
              "      <td>3</td>\n",
              "      <td>1</td>\n",
              "      <td>10</td>\n",
              "    </tr>\n",
              "    <tr>\n",
              "      <th>699</th>\n",
              "      <td>6</td>\n",
              "      <td>10</td>\n",
              "      <td>3</td>\n",
              "    </tr>\n",
              "  </tbody>\n",
              "</table>\n",
              "<p>700 rows × 3 columns</p>\n",
              "</div>"
            ],
            "text/plain": [
              "     0   1   2\n",
              "0    8   6  10\n",
              "1    4   9   8\n",
              "2    6   2   5\n",
              "3    3   6   6\n",
              "4    5  10   8\n",
              "..  ..  ..  ..\n",
              "695  5   3   1\n",
              "696  4   8   3\n",
              "697  5   5   8\n",
              "698  3   1  10\n",
              "699  6  10   3\n",
              "\n",
              "[700 rows x 3 columns]"
            ]
          },
          "metadata": {
            "tags": []
          },
          "execution_count": 31
        }
      ]
    },
    {
      "cell_type": "markdown",
      "metadata": {
        "id": "0CwOHTORmxgZ",
        "colab_type": "text"
      },
      "source": [
        "Now, we apply our function to these first three columns, and save the result in a new column called `Discriminant`. It is aptly named, as its value in any row is simply the value of the mathematical discriminant of the polynomial determined by the coefficients in that row."
      ]
    },
    {
      "cell_type": "code",
      "metadata": {
        "id": "qht6Zn5ZV8hE",
        "colab_type": "code",
        "colab": {}
      },
      "source": [
        "df['Discriminant'] = df.loc[:,:2].apply(discriminant, axis=)"
      ],
      "execution_count": 0,
      "outputs": []
    },
    {
      "cell_type": "code",
      "metadata": {
        "id": "gObqW_RCv89F",
        "colab_type": "code",
        "colab": {}
      },
      "source": [
        "df['Degree'] = df.loc[:, :2].apply(degree, axis=1)"
      ],
      "execution_count": 0,
      "outputs": []
    },
    {
      "cell_type": "code",
      "metadata": {
        "id": "dSPut_5wwtTz",
        "colab_type": "code",
        "colab": {}
      },
      "source": [
        "df.to_csv('degree_df.csv')"
      ],
      "execution_count": 0,
      "outputs": []
    },
    {
      "cell_type": "code",
      "metadata": {
        "id": "MINU-JkEV8hH",
        "colab_type": "code",
        "outputId": "336313ba-e43c-4d48-abf2-11943d28767e",
        "colab": {
          "base_uri": "https://localhost:8080/",
          "height": 359
        }
      },
      "source": [
        "# Take a peek\n",
        "df.head(10)"
      ],
      "execution_count": 17,
      "outputs": [
        {
          "output_type": "execute_result",
          "data": {
            "text/html": [
              "<div>\n",
              "<style scoped>\n",
              "    .dataframe tbody tr th:only-of-type {\n",
              "        vertical-align: middle;\n",
              "    }\n",
              "\n",
              "    .dataframe tbody tr th {\n",
              "        vertical-align: top;\n",
              "    }\n",
              "\n",
              "    .dataframe thead th {\n",
              "        text-align: right;\n",
              "    }\n",
              "</style>\n",
              "<table border=\"1\" class=\"dataframe\">\n",
              "  <thead>\n",
              "    <tr style=\"text-align: right;\">\n",
              "      <th></th>\n",
              "      <th>0</th>\n",
              "      <th>1</th>\n",
              "      <th>2</th>\n",
              "      <th>3</th>\n",
              "      <th>Degree</th>\n",
              "    </tr>\n",
              "  </thead>\n",
              "  <tbody>\n",
              "    <tr>\n",
              "      <th>0</th>\n",
              "      <td>8</td>\n",
              "      <td>6</td>\n",
              "      <td>10</td>\n",
              "      <td>0</td>\n",
              "      <td>2</td>\n",
              "    </tr>\n",
              "    <tr>\n",
              "      <th>1</th>\n",
              "      <td>4</td>\n",
              "      <td>9</td>\n",
              "      <td>8</td>\n",
              "      <td>0</td>\n",
              "      <td>2</td>\n",
              "    </tr>\n",
              "    <tr>\n",
              "      <th>2</th>\n",
              "      <td>6</td>\n",
              "      <td>2</td>\n",
              "      <td>5</td>\n",
              "      <td>0</td>\n",
              "      <td>2</td>\n",
              "    </tr>\n",
              "    <tr>\n",
              "      <th>3</th>\n",
              "      <td>3</td>\n",
              "      <td>6</td>\n",
              "      <td>6</td>\n",
              "      <td>0</td>\n",
              "      <td>2</td>\n",
              "    </tr>\n",
              "    <tr>\n",
              "      <th>4</th>\n",
              "      <td>5</td>\n",
              "      <td>10</td>\n",
              "      <td>8</td>\n",
              "      <td>0</td>\n",
              "      <td>2</td>\n",
              "    </tr>\n",
              "    <tr>\n",
              "      <th>5</th>\n",
              "      <td>10</td>\n",
              "      <td>2</td>\n",
              "      <td>6</td>\n",
              "      <td>0</td>\n",
              "      <td>2</td>\n",
              "    </tr>\n",
              "    <tr>\n",
              "      <th>6</th>\n",
              "      <td>8</td>\n",
              "      <td>8</td>\n",
              "      <td>9</td>\n",
              "      <td>0</td>\n",
              "      <td>2</td>\n",
              "    </tr>\n",
              "    <tr>\n",
              "      <th>7</th>\n",
              "      <td>5</td>\n",
              "      <td>9</td>\n",
              "      <td>1</td>\n",
              "      <td>1</td>\n",
              "      <td>2</td>\n",
              "    </tr>\n",
              "    <tr>\n",
              "      <th>8</th>\n",
              "      <td>9</td>\n",
              "      <td>10</td>\n",
              "      <td>5</td>\n",
              "      <td>0</td>\n",
              "      <td>2</td>\n",
              "    </tr>\n",
              "    <tr>\n",
              "      <th>9</th>\n",
              "      <td>5</td>\n",
              "      <td>3</td>\n",
              "      <td>5</td>\n",
              "      <td>0</td>\n",
              "      <td>2</td>\n",
              "    </tr>\n",
              "  </tbody>\n",
              "</table>\n",
              "</div>"
            ],
            "text/plain": [
              "    0   1   2  3  Degree\n",
              "0   8   6  10  0       2\n",
              "1   4   9   8  0       2\n",
              "2   6   2   5  0       2\n",
              "3   3   6   6  0       2\n",
              "4   5  10   8  0       2\n",
              "5  10   2   6  0       2\n",
              "6   8   8   9  0       2\n",
              "7   5   9   1  1       2\n",
              "8   9  10   5  0       2\n",
              "9   5   3   5  0       2"
            ]
          },
          "metadata": {
            "tags": []
          },
          "execution_count": 17
        }
      ]
    },
    {
      "cell_type": "markdown",
      "metadata": {
        "id": "AJKSK11Tn5xY",
        "colab_type": "text"
      },
      "source": [
        "So what does the column named `3` represent? It indicates, with a 0 or 1, whether or not the polynomial in that row has a real root or not. Recall, a root is a value $x$ for which\n",
        "$$ ax^2+bx+c =0$$\n",
        "\n",
        "Notice, the only appearance of 1 in the `3` column in the sample above occurs when the `Discriminant` is positive. Indeed, this is a property of the discriminant. It is positive if and only if there is a non-zero real root."
      ]
    },
    {
      "cell_type": "markdown",
      "metadata": {
        "id": "Rvph_GlQV8hL",
        "colab_type": "text"
      },
      "source": [
        "## Use `.apply` with `axis=1` to send every single row to a function\n",
        "\n",
        "You can also send an **entire row at a time** instead of just a single column. Use this if you need to use **multiple columns to get a result**."
      ]
    },
    {
      "cell_type": "code",
      "metadata": {
        "id": "1xJSeIt_V8hM",
        "colab_type": "code",
        "outputId": "d94a4441-ee01-41a4-9c07-2af370d70da6",
        "colab": {
          "base_uri": "https://localhost:8080/",
          "height": 142
        }
      },
      "source": [
        "# Create a dataframe from a list of dictionaries\n",
        "rectangles = [\n",
        "    { 'height': 40, 'width': 10 },\n",
        "    { 'height': 20, 'width': 9 },\n",
        "    { 'height': 3.4, 'width': 4 }\n",
        "]\n",
        "\n",
        "rectangles_df = pd.DataFrame(rectangles)\n",
        "rectangles_df"
      ],
      "execution_count": 0,
      "outputs": [
        {
          "output_type": "execute_result",
          "data": {
            "text/html": [
              "<div>\n",
              "<style scoped>\n",
              "    .dataframe tbody tr th:only-of-type {\n",
              "        vertical-align: middle;\n",
              "    }\n",
              "\n",
              "    .dataframe tbody tr th {\n",
              "        vertical-align: top;\n",
              "    }\n",
              "\n",
              "    .dataframe thead th {\n",
              "        text-align: right;\n",
              "    }\n",
              "</style>\n",
              "<table border=\"1\" class=\"dataframe\">\n",
              "  <thead>\n",
              "    <tr style=\"text-align: right;\">\n",
              "      <th></th>\n",
              "      <th>height</th>\n",
              "      <th>width</th>\n",
              "    </tr>\n",
              "  </thead>\n",
              "  <tbody>\n",
              "    <tr>\n",
              "      <th>0</th>\n",
              "      <td>40.0</td>\n",
              "      <td>10</td>\n",
              "    </tr>\n",
              "    <tr>\n",
              "      <th>1</th>\n",
              "      <td>20.0</td>\n",
              "      <td>9</td>\n",
              "    </tr>\n",
              "    <tr>\n",
              "      <th>2</th>\n",
              "      <td>3.4</td>\n",
              "      <td>4</td>\n",
              "    </tr>\n",
              "  </tbody>\n",
              "</table>\n",
              "</div>"
            ],
            "text/plain": [
              "   height  width\n",
              "0    40.0     10\n",
              "1    20.0      9\n",
              "2     3.4      4"
            ]
          },
          "metadata": {
            "tags": []
          },
          "execution_count": 9
        }
      ]
    },
    {
      "cell_type": "code",
      "metadata": {
        "id": "M8rlOBmnV8hO",
        "colab_type": "code",
        "outputId": "3d73a462-a220-422c-a1ef-85ba202a8442",
        "colab": {
          "base_uri": "https://localhost:8080/",
          "height": 85
        }
      },
      "source": [
        "# Use the height and width to calculate the area\n",
        "def calculate_area(row):\n",
        "    return row['height'] * row['width']\n",
        "\n",
        "rectangles_df.apply(calculate_area, axis=1)"
      ],
      "execution_count": 0,
      "outputs": [
        {
          "output_type": "execute_result",
          "data": {
            "text/plain": [
              "0    400.0\n",
              "1    180.0\n",
              "2     13.6\n",
              "dtype: float64"
            ]
          },
          "metadata": {
            "tags": []
          },
          "execution_count": 10
        }
      ]
    },
    {
      "cell_type": "code",
      "metadata": {
        "id": "_8kkLth9V8hR",
        "colab_type": "code",
        "outputId": "8c8336b0-af0f-491d-ddc8-cbb73feddba0",
        "colab": {
          "base_uri": "https://localhost:8080/",
          "height": 142
        }
      },
      "source": [
        "# Use .apply to save the new column if we'd like\n",
        "rectangles_df['area'] = rectangles_df.apply(calculate_area, axis=1)\n",
        "rectangles_df"
      ],
      "execution_count": 0,
      "outputs": [
        {
          "output_type": "execute_result",
          "data": {
            "text/html": [
              "<div>\n",
              "<style scoped>\n",
              "    .dataframe tbody tr th:only-of-type {\n",
              "        vertical-align: middle;\n",
              "    }\n",
              "\n",
              "    .dataframe tbody tr th {\n",
              "        vertical-align: top;\n",
              "    }\n",
              "\n",
              "    .dataframe thead th {\n",
              "        text-align: right;\n",
              "    }\n",
              "</style>\n",
              "<table border=\"1\" class=\"dataframe\">\n",
              "  <thead>\n",
              "    <tr style=\"text-align: right;\">\n",
              "      <th></th>\n",
              "      <th>height</th>\n",
              "      <th>width</th>\n",
              "      <th>area</th>\n",
              "    </tr>\n",
              "  </thead>\n",
              "  <tbody>\n",
              "    <tr>\n",
              "      <th>0</th>\n",
              "      <td>40.0</td>\n",
              "      <td>10</td>\n",
              "      <td>400.0</td>\n",
              "    </tr>\n",
              "    <tr>\n",
              "      <th>1</th>\n",
              "      <td>20.0</td>\n",
              "      <td>9</td>\n",
              "      <td>180.0</td>\n",
              "    </tr>\n",
              "    <tr>\n",
              "      <th>2</th>\n",
              "      <td>3.4</td>\n",
              "      <td>4</td>\n",
              "      <td>13.6</td>\n",
              "    </tr>\n",
              "  </tbody>\n",
              "</table>\n",
              "</div>"
            ],
            "text/plain": [
              "   height  width   area\n",
              "0    40.0     10  400.0\n",
              "1    20.0      9  180.0\n",
              "2     3.4      4   13.6"
            ]
          },
          "metadata": {
            "tags": []
          },
          "execution_count": 11
        }
      ]
    },
    {
      "cell_type": "markdown",
      "metadata": {
        "id": "Rr-fhCafuiDB",
        "colab_type": "text"
      },
      "source": [
        "To save the new dataframe as a csv, we use the command below."
      ]
    },
    {
      "cell_type": "code",
      "metadata": {
        "id": "PeMlm545ulkV",
        "colab_type": "code",
        "colab": {}
      },
      "source": [
        "rectangles_df.to_csv('area.csv')"
      ],
      "execution_count": 0,
      "outputs": []
    },
    {
      "cell_type": "markdown",
      "metadata": {
        "id": "DBKkarD6uq6M",
        "colab_type": "text"
      },
      "source": [
        "Then, we can see that our new file appears."
      ]
    },
    {
      "cell_type": "code",
      "metadata": {
        "id": "YS01H7T9u6hV",
        "colab_type": "code",
        "outputId": "aa3c2eae-11ca-4145-9081-414aa1b5b430",
        "colab": {
          "base_uri": "https://localhost:8080/",
          "height": 292
        }
      },
      "source": [
        "!ls\n",
        "!git config --global user.email 'alexa.yanar@emory.edu'\n",
        "!git config --global user.name 'ayanar'\n",
        "!git clone https://github.com/alexayanar/colab.git\n",
        "%cd dsc2/\n",
        "!git add degree_df.csv\n",
        "!git commit -m 'test yourself week 8'\n",
        "!git push origin master "
      ],
      "execution_count": 37,
      "outputs": [
        {
          "output_type": "stream",
          "text": [
            "adult.csv\t  adult_sample_with_header.csv\texercise1-alexa.sh  README.md\n",
            "adult.data\t  colab\t\t\t\theader.csv\n",
            "adult_sample.csv  degree_df.csv\t\t\thw11\n",
            "fatal: destination path 'colab' already exists and is not an empty directory.\n",
            "[Errno 2] No such file or directory: 'dsc2/'\n",
            "/content/dsc2\n",
            "On branch master\n",
            "Your branch is ahead of 'origin/master' by 1 commit.\n",
            "  (use \"git push\" to publish your local commits)\n",
            "\n",
            "Untracked files:\n",
            "\t\u001b[31mcolab/\u001b[m\n",
            "\n",
            "nothing added to commit but untracked files present\n",
            "fatal: could not read Username for 'https://github.com': No such device or address\n"
          ],
          "name": "stdout"
        }
      ]
    },
    {
      "cell_type": "code",
      "metadata": {
        "id": "pdndgJzEznVG",
        "colab_type": "code",
        "colab": {
          "base_uri": "https://localhost:8080/",
          "height": 122
        },
        "outputId": "c310de33-8c18-40d6-b5e3-ed848b914a4f"
      },
      "source": [
        "from google.colab import drive\n",
        "drive.mount('/content/drive')"
      ],
      "execution_count": 35,
      "outputs": [
        {
          "output_type": "stream",
          "text": [
            "Go to this URL in a browser: https://accounts.google.com/o/oauth2/auth?client_id=947318989803-6bn6qk8qdgf4n4g3pfee6491hc0brc4i.apps.googleusercontent.com&redirect_uri=urn%3aietf%3awg%3aoauth%3a2.0%3aoob&response_type=code&scope=email%20https%3a%2f%2fwww.googleapis.com%2fauth%2fdocs.test%20https%3a%2f%2fwww.googleapis.com%2fauth%2fdrive%20https%3a%2f%2fwww.googleapis.com%2fauth%2fdrive.photos.readonly%20https%3a%2f%2fwww.googleapis.com%2fauth%2fpeopleapi.readonly\n",
            "\n",
            "Enter your authorization code:\n",
            "··········\n",
            "Mounted at /content/drive\n"
          ],
          "name": "stdout"
        }
      ]
    },
    {
      "cell_type": "code",
      "metadata": {
        "id": "EKLKhujGxx73",
        "colab_type": "code",
        "colab": {
          "base_uri": "https://localhost:8080/",
          "height": 68
        },
        "outputId": "cfa1835d-54be-46d3-9ccd-417dc8f24db6"
      },
      "source": [
        ""
      ],
      "execution_count": 21,
      "outputs": [
        {
          "output_type": "stream",
          "text": [
            "fatal: not a git repository (or any of the parent directories): .git\n",
            "fatal: not a git repository (or any of the parent directories): .git\n",
            "fatal: not a git repository (or any of the parent directories): .git\n"
          ],
          "name": "stdout"
        }
      ]
    },
    {
      "cell_type": "markdown",
      "metadata": {
        "id": "m4WEj3IXu7Oj",
        "colab_type": "text"
      },
      "source": [
        "From here, if we were running this notebook in sagemaker, it would be easy to copy this file to our S3 bucket using shell commands. Below are the instructions for that.\n",
        "\n",
        "Alternatively, you can use git. Git clone your repo to this notebook instance, then commit and push the file area.csv.\n",
        "\n",
        "#### Copying a local file to S3 (only works if AWS CLI installed)\n",
        "\n",
        "Indeed, if you use sagemaker the AWS CLI comes preinstalled, so there would be no need to authenticate as we already gave our Sagemaker instance an IAM role allowing it to access all S3 buckets.  \n",
        "\n",
        "The following cp command copies a single file to a specified bucket, here named 'mybucket' and key:"
      ]
    },
    {
      "cell_type": "code",
      "metadata": {
        "id": "MWc6qKEZvRBK",
        "colab_type": "code",
        "colab": {}
      },
      "source": [
        "!aws s3 cp area.csv s3://mybucket/area.csv"
      ],
      "execution_count": 0,
      "outputs": []
    },
    {
      "cell_type": "markdown",
      "metadata": {
        "id": "b095S3GrvjPy",
        "colab_type": "text"
      },
      "source": [
        "For more AWS CLI commands for working with S3, see the examples in the reference [here](https://docs.aws.amazon.com/cli/latest/reference/s3/index.html)."
      ]
    }
  ]
}