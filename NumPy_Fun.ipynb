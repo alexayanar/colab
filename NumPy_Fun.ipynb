{
  "nbformat": 4,
  "nbformat_minor": 0,
  "metadata": {
    "colab": {
      "name": "NumPy-Fun.ipynb",
      "provenance": [],
      "authorship_tag": "ABX9TyM6QKI/kiREQU9kP9P51mjR",
      "include_colab_link": true
    },
    "kernelspec": {
      "name": "python3",
      "display_name": "Python 3"
    }
  },
  "cells": [
    {
      "cell_type": "markdown",
      "metadata": {
        "id": "view-in-github",
        "colab_type": "text"
      },
      "source": [
        "<a href=\"https://colab.research.google.com/github/alexayanar/colab/blob/master/NumPy_Fun.ipynb\" target=\"_parent\"><img src=\"https://colab.research.google.com/assets/colab-badge.svg\" alt=\"Open In Colab\"/></a>"
      ]
    },
    {
      "cell_type": "markdown",
      "metadata": {
        "id": "YWyk8Xd9s4OT"
      },
      "source": [
        "#A Super Quick NumPy Functionality Demonstration\n",
        "\n",
        "To keep the data science imagination going, I kept working on small python projects. This is an example--a challenge set by freecodecamp.org. \n",
        "\n",
        "The project should contain a function called calculate that will take a list of 9 numbers, transform it into a 3x3 NumPy array, then spit out a dictionary containing the mean, variance, standard deviation, max, min, and sum of the whole array, as well as its axis 0 and axis 1. \n",
        "\n",
        "My approach was to create one function that called upon other functions to obtain the mean, variance, etc individually. \n"
      ]
    },
    {
      "cell_type": "code",
      "metadata": {
        "id": "1QouHE85c9vg",
        "outputId": "3d8319c2-0c80-44b0-de4a-4ccfce30f607",
        "colab": {
          "base_uri": "https://localhost:8080/",
          "height": 85
        }
      },
      "source": [
        "import numpy as np"
      ],
      "execution_count": 3,
      "outputs": [
        {
          "output_type": "stream",
          "text": [
            "[[0 1 2]\n",
            " [3 4 5]\n",
            " [6 7 8]]\n",
            "[0, 1, 2, 3, 4, 5, 6, 7, 8]\n"
          ],
          "name": "stdout"
        }
      ]
    },
    {
      "cell_type": "markdown",
      "metadata": {
        "id": "0bWN_u4muNmD"
      },
      "source": [
        "The reshape function starts us off. By creating an if/else statement, we're setting ourselves up for success! We wouldn't be able to comply and form a 3x3 NumPy array otherwise. "
      ]
    },
    {
      "cell_type": "code",
      "metadata": {
        "id": "b4JPd90hrlw9"
      },
      "source": [
        "def rs(list):\n",
        "  if len(list) == 9:\n",
        "    b = np.array([list])\n",
        "    b = np.reshape(b, (3, 3))\n",
        "    return(b)\n",
        "  else:\n",
        "    ValueError(\"List must contain nine numbers.\")"
      ],
      "execution_count": 30,
      "outputs": []
    },
    {
      "cell_type": "markdown",
      "metadata": {
        "id": "7TOYP9y5vGMy"
      },
      "source": [
        "Next on the list is creating all of the functions that will calculate the mean, variance, standard deviation, max, min, and sum of the array. For the purpose of efficiency, I tried using as little variables and lines as possible by placing the calculation parts directly into the return list. The return lists will eventually be compiled into a dictionary. "
      ]
    },
    {
      "cell_type": "code",
      "metadata": {
        "id": "9GI_zi8Gj2jY"
      },
      "source": [
        "def m(b):\n",
        "  means = [np.mean(b, axis = 0), np.mean(b, axis = 1), np.mean(b)]\n",
        "  return means"
      ],
      "execution_count": 45,
      "outputs": []
    },
    {
      "cell_type": "code",
      "metadata": {
        "id": "F1VlSSUUl503"
      },
      "source": [
        "def var(b):\n",
        "  variances = [np.var(b, axis = 0), np.var(b, axis = 1), b]\n",
        "  return variances"
      ],
      "execution_count": 32,
      "outputs": []
    },
    {
      "cell_type": "code",
      "metadata": {
        "id": "bmD4iejymEq1"
      },
      "source": [
        "def stde(b):\n",
        "  stds = [np.std(b, axis = 0), np.std(b, axis = 1), np.std(b)]\n",
        "  return stds"
      ],
      "execution_count": 33,
      "outputs": []
    },
    {
      "cell_type": "code",
      "metadata": {
        "id": "N2n0b0q8mcf2"
      },
      "source": [
        "def mx(b):\n",
        "  maxs = [np.max(b, axis = 0), np.max(b, axis = 1), np.max(b)]\n",
        "  return maxs"
      ],
      "execution_count": 34,
      "outputs": []
    },
    {
      "cell_type": "code",
      "metadata": {
        "id": "6i7W4CPAmrON"
      },
      "source": [
        "def mn(b):\n",
        "  mins = [np.min(b, axis = 0), np.min(b, axis = 1), np.min]\n",
        "  return mins"
      ],
      "execution_count": 35,
      "outputs": []
    },
    {
      "cell_type": "code",
      "metadata": {
        "id": "kTuXBM-Mm5iH"
      },
      "source": [
        "def sm(b): \n",
        "  sums = [np.sum(b, axis = 0), np.sum(b, axis = 1), np.sum]\n",
        "  return sums"
      ],
      "execution_count": 36,
      "outputs": []
    },
    {
      "cell_type": "markdown",
      "metadata": {
        "id": "RqvKfCdcw-gu"
      },
      "source": [
        "Finally, we can create the final function! This function will reshape the list passed as an attribute into a 3x3 NumPy array, then spit out a dictionary using the functions we created and called. "
      ]
    },
    {
      "cell_type": "code",
      "metadata": {
        "id": "1R-pCwtPqX2x",
        "outputId": "db8ffc5f-a00d-425c-b7e0-56dbd26d7c7d",
        "colab": {
          "base_uri": "https://localhost:8080/",
          "height": 54
        }
      },
      "source": [
        "def calculate(list):\n",
        "  b = rs(list)\n",
        "  calculations = {\n",
        "    \"mean\": m(b),\n",
        "    \"variance\": var(b),\n",
        "    \"standard deviation\": stde(b),\n",
        "    \"max\": mx(b),\n",
        "    \"min\": mn(b),\n",
        "    \"sum\": sm(b)\n",
        "  }\n",
        "  return calculations\n"
      ],
      "execution_count": 24,
      "outputs": [
        {
          "output_type": "stream",
          "text": [
            "{'mean': {'mean1': array([3., 4., 5.]), 'mean2': array([1., 4., 7.]), 'meanf': 4.0}, 'variance': {'var1': array([6., 6., 6.]), 'var2': array([0.66666667, 0.66666667, 0.66666667]), 'varf': 6.666666666666667}, 'standard deviation': {'std1': array([2.44948974, 2.44948974, 2.44948974]), 'std2': array([0.81649658, 0.81649658, 0.81649658]), 'stdf': 2.581988897471611}, 'max': {'max1': array([6, 7, 8]), 'max2': array([2, 5, 8]), 'max': 8}, 'min': {'min1': array([0, 1, 2]), 'min2': array([0, 3, 6]), 'min': 0}, 'sum': {'s1': array([ 9, 12, 15]), 's2': array([ 3, 12, 21]), 's': 36}}\n"
          ],
          "name": "stdout"
        }
      ]
    },
    {
      "cell_type": "markdown",
      "metadata": {
        "id": "fpw8wgXExajL"
      },
      "source": [
        "Let's try it out!"
      ]
    },
    {
      "cell_type": "code",
      "metadata": {
        "id": "zu_RbjeYJalT",
        "outputId": "08814231-2dd9-46d5-e47a-8049fe96c8c8",
        "colab": {
          "base_uri": "https://localhost:8080/",
          "height": 88
        }
      },
      "source": [
        "print(calculate([0, 1, 2, 3, 4, 5, 6, 7, 8]))"
      ],
      "execution_count": 46,
      "outputs": [
        {
          "output_type": "stream",
          "text": [
            "{'mean': [array([3., 4., 5.]), array([1., 4., 7.]), 4.0], 'variance': [array([6., 6., 6.]), array([0.66666667, 0.66666667, 0.66666667]), array([[0, 1, 2],\n",
            "       [3, 4, 5],\n",
            "       [6, 7, 8]])], 'standard deviation': [array([2.44948974, 2.44948974, 2.44948974]), array([0.81649658, 0.81649658, 0.81649658]), 2.581988897471611], 'max': [array([6, 7, 8]), array([0, 3, 6]), 0], 'min': [array([0, 1, 2]), array([0, 3, 6]), <function amin at 0x7f69f79c9c80>], 'sum': [array([ 9, 12, 15]), array([ 3, 12, 21]), <function sum at 0x7f69f79c92f0>]}\n"
          ],
          "name": "stdout"
        }
      ]
    }
  ]
}