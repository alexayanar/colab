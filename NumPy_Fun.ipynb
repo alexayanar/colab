{
  "nbformat": 4,
  "nbformat_minor": 0,
  "metadata": {
    "colab": {
      "name": "NumPy-Fun.ipynb",
      "provenance": [],
      "collapsed_sections": [],
      "authorship_tag": "ABX9TyP9mBfnGgmc4QWUHeXvwrVS",
      "include_colab_link": true
    },
    "kernelspec": {
      "name": "python3",
      "display_name": "Python 3"
    }
  },
  "cells": [
    {
      "cell_type": "markdown",
      "metadata": {
        "id": "view-in-github",
        "colab_type": "text"
      },
      "source": [
        "<a href=\"https://colab.research.google.com/github/alexayanar/colab/blob/master/NumPy_Fun.ipynb\" target=\"_parent\"><img src=\"https://colab.research.google.com/assets/colab-badge.svg\" alt=\"Open In Colab\"/></a>"
      ]
    },
    {
      "cell_type": "markdown",
      "metadata": {
        "id": "YWyk8Xd9s4OT"
      },
      "source": [
        "#A Super Quick NumPy Functionality Demonstration\n",
        "\n",
        "To keep the data science imagination going, I kept working on small python projects. This is an example--a challenge set by freecodecamp.org. \n",
        "\n",
        "The project should contain a function called calculate that will take a list of 9 numbers, transform it into a 3x3 NumPy array, then spit out a dictionary containing the mean, variance, standard deviation, max, min, and sum of the whole array, as well as its axis 0 and axis 1. \n",
        "\n",
        "My approach was to create one function that called upon other functions to obtain the mean, variance, etc individually. \n"
      ]
    },
    {
      "cell_type": "code",
      "metadata": {
        "id": "1QouHE85c9vg"
      },
      "source": [
        "import numpy as np"
      ],
      "execution_count": 57,
      "outputs": []
    },
    {
      "cell_type": "markdown",
      "metadata": {
        "id": "0bWN_u4muNmD"
      },
      "source": [
        "The reshape function starts us off. By creating an if/else statement, we're setting ourselves up for success! We wouldn't be able to comply and form a 3x3 NumPy array otherwise. "
      ]
    },
    {
      "cell_type": "code",
      "metadata": {
        "id": "b4JPd90hrlw9"
      },
      "source": [
        "def rs(list):\n",
        "  if len(list) == 9:\n",
        "    b = np.array([list])\n",
        "    b = np.reshape(b, (3, 3))\n",
        "    return(b)\n",
        "  else:\n",
        "    ValueError(\"List must contain nine numbers.\")"
      ],
      "execution_count": 58,
      "outputs": []
    },
    {
      "cell_type": "markdown",
      "metadata": {
        "id": "7TOYP9y5vGMy"
      },
      "source": [
        "Next on the list is creating all of the functions that will calculate the mean, variance, standard deviation, max, min, and sum of the array. For the purpose of efficiency, I tried using as little variables and lines as possible by placing the calculation parts directly into the return list. The return lists will eventually be compiled into a dictionary."
      ]
    },
    {
      "cell_type": "code",
      "metadata": {
        "id": "9GI_zi8Gj2jY"
      },
      "source": [
        "def m(b):\n",
        "  means = [list(np.mean(b, axis = 0)), list(np.mean(b, axis = 1)), np.mean(b)]\n",
        "  return means"
      ],
      "execution_count": 59,
      "outputs": []
    },
    {
      "cell_type": "code",
      "metadata": {
        "id": "F1VlSSUUl503"
      },
      "source": [
        "def var(b):\n",
        "  variances = [list(np.var(b, axis = 0)), list(np.var(b, axis = 1)), b]\n",
        "  return variances"
      ],
      "execution_count": 60,
      "outputs": []
    },
    {
      "cell_type": "code",
      "metadata": {
        "id": "bmD4iejymEq1"
      },
      "source": [
        "def stde(b):\n",
        "  stds = [list(np.std(b, axis = 0)), list(np.std(b, axis = 1)), np.std(b)]\n",
        "  return stds"
      ],
      "execution_count": 61,
      "outputs": []
    },
    {
      "cell_type": "code",
      "metadata": {
        "id": "N2n0b0q8mcf2"
      },
      "source": [
        "def mx(b):\n",
        "  maxs = [list(np.max(b, axis = 0)), list(np.max(b, axis = 1)), np.max(b)]\n",
        "  return maxs"
      ],
      "execution_count": 62,
      "outputs": []
    },
    {
      "cell_type": "code",
      "metadata": {
        "id": "6i7W4CPAmrON"
      },
      "source": [
        "def mn(b):\n",
        "  mins = [list(np.min(b, axis = 0)), list(np.min(b, axis = 1)), np.min]\n",
        "  return mins"
      ],
      "execution_count": 63,
      "outputs": []
    },
    {
      "cell_type": "code",
      "metadata": {
        "id": "kTuXBM-Mm5iH"
      },
      "source": [
        "def sm(b): \n",
        "  sums = [list(np.sum(b, axis = 0)), list(np.sum(b, axis = 1)), np.sum]\n",
        "  return sums"
      ],
      "execution_count": 64,
      "outputs": []
    },
    {
      "cell_type": "markdown",
      "metadata": {
        "id": "RqvKfCdcw-gu"
      },
      "source": [
        "Finally, we can create the final function! This function will reshape the list passed as an attribute into a 3x3 NumPy array, then spit out a dictionary using the functions we created and called. "
      ]
    },
    {
      "cell_type": "code",
      "metadata": {
        "id": "1R-pCwtPqX2x"
      },
      "source": [
        "def calculate(list):\n",
        "  b = rs(list)\n",
        "  calculations = {\n",
        "    \"mean\": m(b), \n",
        "    \"variance\": var(b), \n",
        "    \"standard deviation\": stde(b), \n",
        "    \"max\": mx(b), \n",
        "    \"min\": mn(b), \n",
        "    \"sum\": sm(b)\n",
        "  }\n",
        "  return calculations\n"
      ],
      "execution_count": 78,
      "outputs": []
    },
    {
      "cell_type": "markdown",
      "metadata": {
        "id": "fpw8wgXExajL"
      },
      "source": [
        "Let's try it out!"
      ]
    },
    {
      "cell_type": "code",
      "metadata": {
        "id": "zu_RbjeYJalT",
        "outputId": "32a006bc-717a-4733-fd82-94d02373bfd2",
        "colab": {
          "base_uri": "https://localhost:8080/",
          "height": 88
        }
      },
      "source": [
        "print(calculate([0, 1, 2, 3, 4, 5, 6, 7, 8]))"
      ],
      "execution_count": 79,
      "outputs": [
        {
          "output_type": "stream",
          "text": [
            "{'mean': [[3.0, 4.0, 5.0], [1.0, 4.0, 7.0], 4.0], 'variance': [[6.0, 6.0, 6.0], [0.6666666666666666, 0.6666666666666666, 0.6666666666666666], array([[0, 1, 2],\n",
            "       [3, 4, 5],\n",
            "       [6, 7, 8]])], 'standard deviation': [[2.449489742783178, 2.449489742783178, 2.449489742783178], [0.816496580927726, 0.816496580927726, 0.816496580927726], 2.581988897471611], 'max': [[6, 7, 8], [2, 5, 8], 8], 'min': [[0, 1, 2], [0, 3, 6], <function amin at 0x7f69f79c9c80>], 'sum': [[9, 12, 15], [3, 12, 21], <function sum at 0x7f69f79c92f0>]}\n"
          ],
          "name": "stdout"
        }
      ]
    }
  ]
}