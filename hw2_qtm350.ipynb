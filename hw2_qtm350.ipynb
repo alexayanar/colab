{
  "nbformat": 4,
  "nbformat_minor": 0,
  "metadata": {
    "colab": {
      "name": "hw2.qtm350.ipynb",
      "provenance": [],
      "collapsed_sections": [],
      "include_colab_link": true
    },
    "kernelspec": {
      "name": "python3",
      "display_name": "Python 3"
    }
  },
  "cells": [
    {
      "cell_type": "markdown",
      "metadata": {
        "id": "view-in-github",
        "colab_type": "text"
      },
      "source": [
        "<a href=\"https://colab.research.google.com/github/alexayanar/colab/blob/master/hw2_qtm350.ipynb\" target=\"_parent\"><img src=\"https://colab.research.google.com/assets/colab-badge.svg\" alt=\"Open In Colab\"/></a>"
      ]
    },
    {
      "cell_type": "markdown",
      "metadata": {
        "id": "KbQlUtcR-egF",
        "colab_type": "text"
      },
      "source": [
        "# The QuantEcon Package\n",
        "\n",
        "## By CJ Araujo\n",
        "The QuantEcon package is an unique project designed to develop open-source quantitative tools for economics, econometrics, and complex decision making.  It can be used extensively throughout my QSS track - Economics.\n",
        "\n",
        "## How to Install\n",
        "The QuantEcon package requires a few additional steps to install and use on Google Colaboratory.  It requires you to use the function listed below to originally install and then you can choose from its many functions.  I have chosen the game theory library and have paired it with the NumPy package - as it allows us to use arrays and matrices in a unique way.\n"
      ]
    },
    {
      "cell_type": "code",
      "metadata": {
        "id": "YsHMWlsx_DbP",
        "colab_type": "code",
        "colab": {}
      },
      "source": [
        "pip install -q quantecon"
      ],
      "execution_count": 0,
      "outputs": []
    },
    {
      "cell_type": "code",
      "metadata": {
        "id": "KzdxHuC5_FMi",
        "colab_type": "code",
        "colab": {}
      },
      "source": [
        "import quantecon.game_theory as gt\n",
        "import numpy as np"
      ],
      "execution_count": 0,
      "outputs": []
    },
    {
      "cell_type": "markdown",
      "metadata": {
        "id": "iBKs8AF0v5sH",
        "colab_type": "text"
      },
      "source": [
        "## Applications of the QuantEcon Game_Theory Function\n",
        "### The Normal Form Game\n",
        "A normal form game is a mathematical way to represent a game.  In order to do so in the QuantEcon package, you first must represent each decision with its corresponding weight to each other decision.\n",
        "\n",
        "### Rock Paper Scisors Example\n",
        "One of the more useful applications of the QuantEcon package is for modeling game theory situations.  Notorious game theory devices such as Prisoner's Dilemna, Battle of the Sexes, Nash Equilibriums, and Rock-Paper-Scissors can all be easily created and understood by using this package."
      ]
    },
    {
      "cell_type": "code",
      "metadata": {
        "id": "a36WgrdMv7NK",
        "colab_type": "code",
        "colab": {}
      },
      "source": [
        "# Making the matrix for the Rock-Paper-Scissor game\n",
        "RPS = [ [ 0, -1,   1],\n",
        "        [ 1,  0,  -1],\n",
        "        [-1,  1,   0] ]\n",
        "# The above matrix represents the outcomes for a normal game of rock=paper-scissor\n",
        "\n",
        "# The command gt.NormalFormGame runs a normal form game equation on the given matrix\n",
        "gt_RPS = gt.NormalFormGame(RPS)"
      ],
      "execution_count": 0,
      "outputs": []
    },
    {
      "cell_type": "code",
      "metadata": {
        "id": "MTfFM9nWwd-L",
        "colab_type": "code",
        "outputId": "032d51b3-f1e9-40c8-c852-28047d7f623c",
        "colab": {
          "base_uri": "https://localhost:8080/",
          "height": 85
        }
      },
      "source": [
        "print(gt_RPS)"
      ],
      "execution_count": 0,
      "outputs": [
        {
          "output_type": "stream",
          "text": [
            "2-player NormalFormGame with payoff profile array:\n",
            "[[[ 0,  0],  [-1,  1],  [ 1, -1]],\n",
            " [[ 1, -1],  [ 0,  0],  [-1,  1]],\n",
            " [[-1,  1],  [ 1, -1],  [ 0,  0]]]\n"
          ],
          "name": "stdout"
        }
      ]
    },
    {
      "cell_type": "markdown",
      "metadata": {
        "id": "jf2bxcUew7_6",
        "colab_type": "text"
      },
      "source": [
        "The following code spits out the outcomes for the rock-paper-scissor game.  Here, a 0 represents a draw, 1 represents a win, and -1 represents a loss.  The game can be expanded upon by adding more options, players, or more "
      ]
    },
    {
      "cell_type": "markdown",
      "metadata": {
        "id": "-IuHrmaL_YXe",
        "colab_type": "text"
      },
      "source": [
        "##The Appelpy Package\n",
        "###By: Peter Freck"
      ]
    },
    {
      "cell_type": "markdown",
      "metadata": {
        "id": "pZhkbjhkdq7t",
        "colab_type": "text"
      },
      "source": [
        "The Applied Econometrics Library for Python, or appelpy, is your one-stop shop for econometric modeling and general regression analysis in Python. "
      ]
    },
    {
      "cell_type": "markdown",
      "metadata": {
        "id": "nG8XEzR_fQL6",
        "colab_type": "text"
      },
      "source": [
        "####Basic Usage"
      ]
    },
    {
      "cell_type": "code",
      "metadata": {
        "id": "sFlFFaYT_7aQ",
        "colab_type": "code",
        "outputId": "6037d237-e696-4875-e8d1-ebec650e5a30",
        "colab": {
          "base_uri": "https://localhost:8080/",
          "height": 340
        }
      },
      "source": [
        "#Install appelpy\n",
        "pip install appelpy"
      ],
      "execution_count": 0,
      "outputs": [
        {
          "output_type": "stream",
          "text": [
            "Collecting appelpy\n",
            "  Downloading https://files.pythonhosted.org/packages/0a/58/ee586ae485138fadddc798aca51e30375538c080dbf814bbfb227c419ffd/appelpy-0.4.2-py3-none-any.whl\n",
            "Requirement already satisfied: seaborn>=0.9 in /usr/local/lib/python3.6/dist-packages (from appelpy) (0.10.0)\n",
            "Requirement already satisfied: statsmodels>=0.9 in /usr/local/lib/python3.6/dist-packages (from appelpy) (0.10.2)\n",
            "Requirement already satisfied: numpy>=1.16 in /usr/local/lib/python3.6/dist-packages (from appelpy) (1.18.2)\n",
            "Requirement already satisfied: patsy in /usr/local/lib/python3.6/dist-packages (from appelpy) (0.5.1)\n",
            "Requirement already satisfied: jinja2 in /usr/local/lib/python3.6/dist-packages (from appelpy) (2.11.1)\n",
            "Requirement already satisfied: pandas>=0.24 in /usr/local/lib/python3.6/dist-packages (from appelpy) (1.0.3)\n",
            "Requirement already satisfied: scipy in /usr/local/lib/python3.6/dist-packages (from appelpy) (1.4.1)\n",
            "Requirement already satisfied: matplotlib>=3 in /usr/local/lib/python3.6/dist-packages (from appelpy) (3.2.1)\n",
            "Requirement already satisfied: six in /usr/local/lib/python3.6/dist-packages (from patsy->appelpy) (1.12.0)\n",
            "Requirement already satisfied: MarkupSafe>=0.23 in /usr/local/lib/python3.6/dist-packages (from jinja2->appelpy) (1.1.1)\n",
            "Requirement already satisfied: pytz>=2017.2 in /usr/local/lib/python3.6/dist-packages (from pandas>=0.24->appelpy) (2018.9)\n",
            "Requirement already satisfied: python-dateutil>=2.6.1 in /usr/local/lib/python3.6/dist-packages (from pandas>=0.24->appelpy) (2.8.1)\n",
            "Requirement already satisfied: kiwisolver>=1.0.1 in /usr/local/lib/python3.6/dist-packages (from matplotlib>=3->appelpy) (1.2.0)\n",
            "Requirement already satisfied: pyparsing!=2.0.4,!=2.1.2,!=2.1.6,>=2.0.1 in /usr/local/lib/python3.6/dist-packages (from matplotlib>=3->appelpy) (2.4.7)\n",
            "Requirement already satisfied: cycler>=0.10 in /usr/local/lib/python3.6/dist-packages (from matplotlib>=3->appelpy) (0.10.0)\n",
            "Installing collected packages: appelpy\n",
            "Successfully installed appelpy-0.4.2\n"
          ],
          "name": "stdout"
        }
      ]
    },
    {
      "cell_type": "markdown",
      "metadata": {
        "id": "oPRNJ77Hhahm",
        "colab_type": "text"
      },
      "source": [
        "Appelpy makes it possibly to regress y on x in one line and only one more to return results"
      ]
    },
    {
      "cell_type": "code",
      "metadata": {
        "colab_type": "code",
        "id": "2htaWU1sh-A-",
        "outputId": "f3f00d20-1c61-49ea-b6c7-8f692b3d1da4",
        "colab": {
          "base_uri": "https://localhost:8080/",
          "height": 231
        }
      },
      "source": [
        "#Perform Ordinary Least Squares regression\n",
        "from appelpy.linear_model import OLS\n",
        "\n",
        "df = {'y_list': [2, 4, 3, 5, 6,4,6,7,4,6,5,4,6,3,8],\n",
        "      'X_list': [1,2,3,4,5,6,7,8,9,10,11,12,13,14,15]} # create a dataframe\n",
        "\n",
        "df = pd.DataFrame (df, columns = ['y','X']) # make it a pandas dataframe\n",
        "\n",
        "model1 = OLS(df, y_list, X_list).fit()  # y_list & X_list contain df columns"
      ],
      "execution_count": 0,
      "outputs": [
        {
          "output_type": "stream",
          "text": [
            "/usr/local/lib/python3.6/dist-packages/statsmodels/tools/_testing.py:19: FutureWarning: pandas.util.testing is deprecated. Use the functions in the public API at pandas.testing instead.\n",
            "  import pandas.util.testing as tm\n"
          ],
          "name": "stderr"
        },
        {
          "output_type": "error",
          "ename": "NameError",
          "evalue": "ignored",
          "traceback": [
            "\u001b[0;31m---------------------------------------------------------------------------\u001b[0m",
            "\u001b[0;31mNameError\u001b[0m                                 Traceback (most recent call last)",
            "\u001b[0;32m<ipython-input-169-9916727a31f8>\u001b[0m in \u001b[0;36m<module>\u001b[0;34m()\u001b[0m\n\u001b[1;32m      1\u001b[0m \u001b[0;32mfrom\u001b[0m \u001b[0mappelpy\u001b[0m\u001b[0;34m.\u001b[0m\u001b[0mlinear_model\u001b[0m \u001b[0;32mimport\u001b[0m \u001b[0mOLS\u001b[0m\u001b[0;34m\u001b[0m\u001b[0;34m\u001b[0m\u001b[0m\n\u001b[1;32m      2\u001b[0m \u001b[0;34m\u001b[0m\u001b[0m\n\u001b[0;32m----> 3\u001b[0;31m \u001b[0mmodel1\u001b[0m \u001b[0;34m=\u001b[0m \u001b[0mOLS\u001b[0m\u001b[0;34m(\u001b[0m\u001b[0mdf\u001b[0m\u001b[0;34m,\u001b[0m \u001b[0my_list\u001b[0m\u001b[0;34m,\u001b[0m \u001b[0mX_list\u001b[0m\u001b[0;34m)\u001b[0m\u001b[0;34m.\u001b[0m\u001b[0mfit\u001b[0m\u001b[0;34m(\u001b[0m\u001b[0;34m)\u001b[0m  \u001b[0;31m# y_list & X_list contain df columns\u001b[0m\u001b[0;34m\u001b[0m\u001b[0;34m\u001b[0m\u001b[0m\n\u001b[0m",
            "\u001b[0;31mNameError\u001b[0m: name 'df' is not defined"
          ]
        }
      ]
    },
    {
      "cell_type": "markdown",
      "metadata": {
        "id": "Ab2Byyj5h43w",
        "colab_type": "text"
      },
      "source": [
        "Diagnostic class and functions can also be obtained with only one line of code"
      ]
    },
    {
      "cell_type": "code",
      "metadata": {
        "id": "d7mJ5eoWiG_B",
        "colab_type": "code",
        "colab": {}
      },
      "source": [
        " #Appelpy can return a few different metrics on your regression\n",
        "model1.results_output  # returns summary results\n",
        "model1.diagnostic_plot('pp_plot') #create a P-P diagnostic plot, among others\n",
        "model1.model_selection_stats #find the root mean square error of the model\n",
        "model1.results_output_standardized #find standardized model estimates"
      ],
      "execution_count": 0,
      "outputs": []
    },
    {
      "cell_type": "markdown",
      "metadata": {
        "id": "RI2yKrS1g21w",
        "colab_type": "text"
      },
      "source": [
        "Appelpy also has some useful modules for:"
      ]
    },
    {
      "cell_type": "markdown",
      "metadata": {
        "id": "jF8jIJ5NhCL_",
        "colab_type": "text"
      },
      "source": [
        "####Exploration and Pre-processing"
      ]
    },
    {
      "cell_type": "markdown",
      "metadata": {
        "id": "wa02kAAwi5OR",
        "colab_type": "text"
      },
      "source": [
        "\n",
        "\n",
        "*   *eda* is used for exploratory data analysis. For example, *statistical_moments* can be used to obtain mean, skewness, variance, etc. \n",
        "*   *utils* can be used to encode dummy and interaction variables using *DummyEncoder* and *InteractionEncoder*, respectively\n",
        "\n",
        "\n",
        "\n",
        "\n"
      ]
    },
    {
      "cell_type": "markdown",
      "metadata": {
        "id": "VwSC9YiJk3Ek",
        "colab_type": "text"
      },
      "source": [
        "####Model Fitting"
      ]
    },
    {
      "cell_type": "markdown",
      "metadata": {
        "id": "m8VeCWWnk6a9",
        "colab_type": "text"
      },
      "source": [
        "\n",
        "\n",
        "*   *liner_model* has classed for linear models like OLS and WLS\n",
        "*   *discrete_model* has classed for discrete models like logistic \n",
        "\n"
      ]
    },
    {
      "cell_type": "markdown",
      "metadata": {
        "id": "bbQsbO1arFgK",
        "colab_type": "text"
      },
      "source": [
        "Appelpy also includes some model diagnostics modules that allow for tests not in main Python libraries like the Breusch–Pagan test of heteroskedasticity."
      ]
    },
    {
      "cell_type": "markdown",
      "metadata": {
        "id": "4fwVTZr2AwOI",
        "colab_type": "text"
      },
      "source": [
        "# The Random Package\n",
        "## By John Cox\n",
        "\n",
        "\n",
        "In my QSS track, economics, there is often a need to calculate complex integrals.  For those who are math averse, there is a way to estimate these integrals using statistics.  This method is called Monte Carlo Simulations, and it can be done using the 'random' package in Python.  \n",
        "\n",
        "Random is a package that allows the user to generate random numbers in a variety of ways.  It is an extremely useful package as it can be used to simulate different distributions of data as well as rolling dice or shuffling playing card decks.  This chapter in the blog will teach you some basics of using the random package and demonstrate an example of using the Monte Carlo technique to solve integrals.  \n",
        "\n",
        "\n",
        "\n",
        "\n"
      ]
    },
    {
      "cell_type": "markdown",
      "metadata": {
        "id": "a0IzqFvXMOvD",
        "colab_type": "text"
      },
      "source": [
        "## Using random\n",
        "\n",
        "To see how random works, lets explore a few common methods of random."
      ]
    },
    {
      "cell_type": "code",
      "metadata": {
        "id": "R96UHy48AyEy",
        "colab_type": "code",
        "colab": {}
      },
      "source": [
        "import random # First we need to import random\n",
        "import numpy as np # Will need to use numpy later on\n",
        "import matplotlib.pyplot as plt # for a plot used later on\n"
      ],
      "execution_count": 0,
      "outputs": []
    },
    {
      "cell_type": "markdown",
      "metadata": {
        "id": "g3w9Dr-5idik",
        "colab_type": "text"
      },
      "source": [
        "The most simple use of random is to simulate a number between 0 and 1.  This can be done with the below code, using the random method.  You will see that each time you run the code, a different number appears.  In this code, each number between 0 and 1 occurs with equal probability."
      ]
    },
    {
      "cell_type": "code",
      "metadata": {
        "id": "9g675hswchoZ",
        "colab_type": "code",
        "outputId": "29122bd7-4ca1-47cc-ca8f-d9deadf1fcab",
        "colab": {
          "base_uri": "https://localhost:8080/",
          "height": 34
        }
      },
      "source": [
        "random.random()"
      ],
      "execution_count": 0,
      "outputs": [
        {
          "output_type": "execute_result",
          "data": {
            "text/plain": [
              "0.6901085318372512"
            ]
          },
          "metadata": {
            "tags": []
          },
          "execution_count": 32
        }
      ]
    },
    {
      "cell_type": "markdown",
      "metadata": {
        "id": "0J3mmvsnjD8p",
        "colab_type": "text"
      },
      "source": [
        "Often it is useful to create a list of random numbers.  This can easily be done with the random package using list comprehensions.  The following code creates a list of 10 numbers, randomly chosen between 1 and 100.  The randrange method allows you to input a lowerbound, and upperbound, and a step size for the population of numbers that can be chosen.  Then, my code tells python to choose 10 numbers randomly from that population and put them into a list."
      ]
    },
    {
      "cell_type": "code",
      "metadata": {
        "id": "241FznngjBH4",
        "colab_type": "code",
        "outputId": "a81da9ca-7b86-40ef-ddf2-cf70f6cfaf83",
        "colab": {
          "base_uri": "https://localhost:8080/",
          "height": 34
        }
      },
      "source": [
        "list_example = [random.randrange(1,101, 1) for i in range(10)]\n",
        "\n",
        "print(list_example)"
      ],
      "execution_count": 0,
      "outputs": [
        {
          "output_type": "stream",
          "text": [
            "[38, 55, 75, 17, 25, 60, 57, 26, 50, 28]\n"
          ],
          "name": "stdout"
        }
      ]
    },
    {
      "cell_type": "markdown",
      "metadata": {
        "id": "q30VVUqYm0Mw",
        "colab_type": "text"
      },
      "source": [
        "Another use of the random package is to generate numbers as if they were in a normal distribution.  Below I write code to simulate 1000 numbers from a normally distribution with mean = 0 and standard deviation = 1."
      ]
    },
    {
      "cell_type": "code",
      "metadata": {
        "id": "B3EOnvunmy-u",
        "colab_type": "code",
        "colab": {}
      },
      "source": [
        "mean = 0\n",
        "standard_deviation = 1\n",
        "normald = np.random.normal(mean, standard_deviation, 1000)"
      ],
      "execution_count": 0,
      "outputs": []
    },
    {
      "cell_type": "markdown",
      "metadata": {
        "id": "rBFEfgdOntXU",
        "colab_type": "text"
      },
      "source": [
        "I can test the prior code by graphing it to see if the numbers are actually normally distributed by plotting them.  Running the below code will give you a histogram of the prior simulated numbers."
      ]
    },
    {
      "cell_type": "code",
      "metadata": {
        "id": "9BrAvOCPofrs",
        "colab_type": "code",
        "outputId": "f524484f-6177-418e-c6a5-fc58cdde3d6f",
        "colab": {
          "base_uri": "https://localhost:8080/",
          "height": 295
        }
      },
      "source": [
        "n, bins, patches = plt.hist(x=normald, bins='auto', color='#0504aa',\n",
        "                            alpha=0.7, rwidth=0.85)\n",
        "plt.grid(axis='y', alpha=1)\n",
        "plt.xlabel('Value')\n",
        "plt.ylabel('Frequency')\n",
        "plt.title('Histogram of Normal Data')\n",
        "maxfreq = n.max()"
      ],
      "execution_count": 0,
      "outputs": [
        {
          "output_type": "display_data",
          "data": {
            "image/png": "[encoded data removed]",
            "text/plain": [
              "<Figure size 432x288 with 1 Axes>"
            ]
          },
          "metadata": {
            "tags": [],
            "needs_background": "light"
          }
        }
      ]
    },
    {
      "cell_type": "markdown",
      "metadata": {
        "id": "PUKyFbaSqJtc",
        "colab_type": "text"
      },
      "source": [
        "As you can see, the numbers follow an approximately normal distribution.  \n",
        "\n",
        "There are many different ways to use the random package, and if you are interested in other methods of random, I recommend checking out this page: https://docs.python.org/3/library/random.html#module-random "
      ]
    },
    {
      "cell_type": "markdown",
      "metadata": {
        "id": "tWX6zKPgrBTG",
        "colab_type": "text"
      },
      "source": [
        "## Applying Random to Economics\n",
        "\n",
        "\n",
        "![Consumer Surplus Graph](https://mathstat.slu.edu/~may/ExcelCalculus/images/sec7-8-2.png)\n",
        "\n",
        "Getting back to economics, imagine we have a supply-demand curve as shown above.  If we have the formula for the demand curve, and the values for $p_{s}$ (price supplied) and $q_{s}$ (quantity supplied), we will be able to estimate the consumer surplus without using advanced calculus.  \n",
        "\n",
        "Say  __price = 10 - 2$x^{1/2}$__ , __$p_{s}$ = 2__ , and __$q_{s}$ = 8__\n",
        "\n",
        "To solve this, I will first need to generate a uniform, random list of numbers from the range of my integral (0 to $q_{s}$).  "
      ]
    },
    {
      "cell_type": "code",
      "metadata": {
        "id": "0nrI5iQGxYpU",
        "colab_type": "code",
        "colab": {}
      },
      "source": [
        "qs = 8 # define qs\n",
        "x = [random.uniform(0, qs) for i in range(1000)] # create a random list of 1000 numbers from 0 to qs"
      ],
      "execution_count": 0,
      "outputs": []
    },
    {
      "cell_type": "markdown",
      "metadata": {
        "id": "BmG35S2m4fwk",
        "colab_type": "text"
      },
      "source": [
        "Now, I need to define a function that inputs every value in the random list x and runs it through the price function.  Then the function needs to calculate the average value of those results, and subtract $p_{s}$.  This will leave me with the average consumer surplus in the range 0 to $q_{s}$.  To get the complete consumer surplus, the function will have to multiply this average value by the range, $q_{s}$.  \n",
        "\n",
        "This is precisely what the below function does."
      ]
    },
    {
      "cell_type": "code",
      "metadata": {
        "id": "GFUnC9LZwlql",
        "colab_type": "code",
        "colab": {}
      },
      "source": [
        "def consumer_surplus(x):\n",
        "  \"\"\"\n",
        "  This function inputs a list of random numbers (x) and returns the consumer surplus\n",
        "  \"\"\"\n",
        "  ps = 2 # define ps\n",
        "  surplus = 0 # create a variable surplus\n",
        "  length = len(x) # Calculate how many numbers are in the list so I know how much to divide my suplus by to calculate the average\n",
        "  for number in x: # For loop that calculates the total surplus\n",
        "    surplus += (((10 - 2*(number**(1/2))) - ps)/length)*qs\n",
        "  return (surplus)"
      ],
      "execution_count": 0,
      "outputs": []
    },
    {
      "cell_type": "markdown",
      "metadata": {
        "id": "rH9DcVx86XlL",
        "colab_type": "text"
      },
      "source": [
        "After creating my consumer surplus function, I input the list of values into it and check the results."
      ]
    },
    {
      "cell_type": "code",
      "metadata": {
        "id": "pI50U63c0qly",
        "colab_type": "code",
        "outputId": "00765a78-d2f7-4c72-b0c7-61a25752fb59",
        "colab": {
          "base_uri": "https://localhost:8080/",
          "height": 34
        }
      },
      "source": [
        "consumer_surplus(x)"
      ],
      "execution_count": 0,
      "outputs": [
        {
          "output_type": "execute_result",
          "data": {
            "text/plain": [
              "33.74985925735872"
            ]
          },
          "metadata": {
            "tags": []
          },
          "execution_count": 167
        }
      ]
    },
    {
      "cell_type": "markdown",
      "metadata": {
        "id": "NAhLb2zy6f42",
        "colab_type": "text"
      },
      "source": [
        "As you can see, the value hovers around 33.83, which is what Wolfram Alpha calculated the actual consumer surplus to be.  Remember this method gives you an estimate of the answer, not the exact answer.  \n",
        "\n",
        "If you are a washed-up calculus student who needs to solve a definite integral, the random package can save your day!"
      ]
    },
    {
      "cell_type": "markdown",
      "metadata": {
        "id": "HzJXpJcbMVfN",
        "colab_type": "text"
      },
      "source": [
        "#Seaborn Python Package\n",
        "## by alexa yanar\n",
        "\n",
        "In the field of political science, as in many other fields, there is a strong emphasis translating on data into visual represenations. This field relies more strongly on quantitative data, as opposed to qualititative data, so this seaborn python package seemed a good place to start. Seaborn assists a user in creating beautiful and informative statistical graphics, by plotting the relationships between variables through the use of color, shape, etc. Its sole function is creating efficient and effective graphs, thus its functionalities can create truly sophisticated and impressive graphs, and the example below is only a small example of what it can do. Personally, this python package thoroughly impresses me."
      ]
    },
    {
      "cell_type": "markdown",
      "metadata": {
        "id": "2MfZLBQpP8Mw",
        "colab_type": "text"
      },
      "source": [
        "![seaborn.ex1](https://github.com/alexayanar/dsc2/blob/master/scatterplot_categorical.png?raw=true)\n",
        "\n",
        "This is an example of a graph created by both seaborn and pandas packages. This graphs the relationship of categorical variables. This scatterplot examines different aspects of 4 flowers, including the measurements of their sepal length, sepal width, petal length, and petal width. There are so many variations of what is possible--especially considering what one can create by using multiple packages. "
      ]
    },
    {
      "cell_type": "markdown",
      "metadata": {
        "id": "LKql6mJpSd9E",
        "colab_type": "text"
      },
      "source": [
        "## USING SEABORN\n",
        "To start, we install the packages needed. Much like pandas's abbreviation is pd, seaborn uses sns. We'll also upload the csv file."
      ]
    },
    {
      "cell_type": "code",
      "metadata": {
        "id": "dvxresh-Svjj",
        "colab_type": "code",
        "outputId": "b5c9740e-f7fb-499c-a70a-a32c97549c7e",
        "colab": {
          "base_uri": "https://localhost:8080/",
          "height": 71
        }
      },
      "source": [
        "import seaborn as sns\n",
        "import pandas as pd \n",
        "import matplotlib.pyplot as plt"
      ],
      "execution_count": 0,
      "outputs": [
        {
          "output_type": "stream",
          "text": [
            "/usr/local/lib/python3.6/dist-packages/statsmodels/tools/_testing.py:19: FutureWarning: pandas.util.testing is deprecated. Use the functions in the public API at pandas.testing instead.\n",
            "  import pandas.util.testing as tm\n"
          ],
          "name": "stderr"
        }
      ]
    },
    {
      "cell_type": "markdown",
      "metadata": {
        "id": "tIh7ENW_iCZL",
        "colab_type": "text"
      },
      "source": [
        "Finally, we'll start trying to represent this data graphically. We'll start by setting the style and loading the dataset. For this example, we will use a very simple dataset so as to avoid intense data manipulation. We will be plotting the amount servers receive as tips in relation to their total bill. This data will be seperated by the categorical variables lunch and dinner to see if there is a significant difference in spending and tipping habits between dinner and lunch. \n",
        "\n",
        "To begin, we will set the preferences to darkgrid, by using sns.set. We will then upload the csv from the github link. "
      ]
    },
    {
      "cell_type": "code",
      "metadata": {
        "id": "TnN2a65YiFA6",
        "colab_type": "code",
        "colab": {}
      },
      "source": [
        "sns.set(style=\"darkgrid\")\n",
        "tips = pd.read_csv('https://raw.githubusercontent.com/mwaskom/seaborn-data/master/tips.csv')\n",
        "tips = sns.load_dataset(\"tips\")"
      ],
      "execution_count": 0,
      "outputs": []
    },
    {
      "cell_type": "markdown",
      "metadata": {
        "id": "25Hg7d5qiHse",
        "colab_type": "text"
      },
      "source": [
        "Next, we will create subgroups so we can divide the categorical variables from each other--dinner and lunch. "
      ]
    },
    {
      "cell_type": "code",
      "metadata": {
        "id": "ClnDZuLyiMUY",
        "colab_type": "code",
        "colab": {}
      },
      "source": [
        "dinner = tips.query(\"time == 'Dinner'\")\n",
        "lunch = tips.query(\"time == 'Lunch'\")"
      ],
      "execution_count": 0,
      "outputs": []
    },
    {
      "cell_type": "markdown",
      "metadata": {
        "id": "78WSYb74iQAQ",
        "colab_type": "text"
      },
      "source": [
        "We will now create the graph itself, without the data visualizations by using plt.subplots and set_aspect. The figure size and the aspect will change case to case, according to what makes sense for the data. In this instance, we're using auto with figure sizes of 10. These are very important to set right! Without it, graphs can look squished, pulled, and overall, do a very bad job of conveying information! So play around and see what works best for you! "
      ]
    },
    {
      "cell_type": "code",
      "metadata": {
        "id": "yElUaGuHiTus",
        "colab_type": "code",
        "outputId": "1d6258d8-7e57-43b0-982d-96347a72f226",
        "colab": {
          "base_uri": "https://localhost:8080/",
          "height": 598
        }
      },
      "source": [
        "f, ax = plt.subplots(figsize = (10,10))\n",
        "ax.set_aspect(\"auto\")"
      ],
      "execution_count": 0,
      "outputs": [
        {
          "output_type": "display_data",
          "data": {
            "image/png": "[encoded data removed]",
            "text/plain": [
              "<Figure size 720x720 with 1 Axes>"
            ]
          },
          "metadata": {
            "tags": []
          }
        }
      ]
    },
    {
      "cell_type": "markdown",
      "metadata": {
        "id": "tC_xtTn_iWF9",
        "colab_type": "text"
      },
      "source": [
        "Let's get cracking with the actual representation! For this graph, we'll be using kdeplot by seaborn. This will create the blobs that kind of look like topographic maps. The first parameter that will be passed in is the data used in the x-axis, in this case, it's the amount on the total bill. The second parameter passed is the amount of tips which will be mapped on the y-axis. The third parameter passed is the color for each blob! Keep in mind that the categorical variables need different colors, different enough that there's no source of confusion. "
      ]
    },
    {
      "cell_type": "code",
      "metadata": {
        "id": "9BRV0GlXiZGL",
        "colab_type": "code",
        "outputId": "28845b82-038a-49df-8043-6b4d3205a7b9",
        "colab": {
          "base_uri": "https://localhost:8080/",
          "height": 285
        }
      },
      "source": [
        "ax = sns.kdeplot(dinner.total_bill, dinner.tip,\n",
        "                 cmap=\"Greens\", shade=True, shade_lowest=False)\n",
        "ax = sns.kdeplot(lunch.total_bill, lunch.tip,\n",
        "                 cmap=\"Blues\", shade=True, shade_lowest=False)\n",
        "\n",
        "green = sns.color_palette(\"Greens\")[-2]\n",
        "blue = sns.color_palette(\"Blues\")[-2]"
      ],
      "execution_count": 0,
      "outputs": [
        {
          "output_type": "display_data",
          "data": {
            "image/png": "[encoded data removed]",
            "text/plain": [
              "<Figure size 432x288 with 1 Axes>"
            ]
          },
          "metadata": {
            "tags": []
          }
        }
      ]
    },
    {
      "cell_type": "markdown",
      "metadata": {
        "id": "XOQM3JMzibLd",
        "colab_type": "text"
      },
      "source": [
        "We're almost done! Our last thing to make is our labels! To label the dinner and lunch blobs, you'll be using ax.text. The first two parameters are the coordinates of where you would like the word placed within the grid, followed by the word itself, the size of the font, and the color of the word. With this step done, there will be no confusion around which colored blob belongs to which variable! "
      ]
    },
    {
      "cell_type": "code",
      "metadata": {
        "id": "ZpmD1Dg2idd1",
        "colab_type": "code",
        "colab": {}
      },
      "source": [
        "ax.text(0, 2, \"lunch\", size=16, color=blue)\n",
        "ax.text(30, 6.5, \"dinner\", size=16, color=green)\n"
      ],
      "execution_count": 0,
      "outputs": []
    },
    {
      "cell_type": "markdown",
      "metadata": {
        "id": "wnrw7v66if0k",
        "colab_type": "text"
      },
      "source": [
        "Finally, combine all of the code so that it's all mapped to the graph, and we're done! Sit back and admire your beautiful graph. :) While political science uses many graphical representations, this is not the only one field which relies heavily on visuals. In fact, most fields do! So this package is practically universally applicable to all tracks and all fields! Happy graphing~~ "
      ]
    },
    {
      "cell_type": "code",
      "metadata": {
        "id": "AZ5omJrLii34",
        "colab_type": "code",
        "outputId": "2b0a88e8-8a3e-4ee9-a84a-c94aff1e6195",
        "colab": {
          "base_uri": "https://localhost:8080/",
          "height": 628
        }
      },
      "source": [
        "sns.set(style=\"darkgrid\")\n",
        "tips = pd.read_csv('https://raw.githubusercontent.com/mwaskom/seaborn-data/master/tips.csv')\n",
        "tips = sns.load_dataset(\"tips\")\n",
        "\n",
        "dinner = tips.query(\"time == 'Dinner'\")\n",
        "lunch = tips.query(\"time == 'Lunch'\")\n",
        "\n",
        "f, ax = plt.subplots(figsize = (10,10))\n",
        "ax.set_aspect(\"auto\")\n",
        "\n",
        "ax = sns.kdeplot(dinner.total_bill, dinner.tip,\n",
        "                 cmap=\"Greens\", shade=True, shade_lowest=False)\n",
        "ax = sns.kdeplot(lunch.total_bill, lunch.tip,\n",
        "                 cmap=\"Blues\", shade=True, shade_lowest=False)\n",
        "\n",
        "green = sns.color_palette(\"Greens\")[-2]\n",
        "blue = sns.color_palette(\"Blues\")[-2]\n",
        "\n",
        "ax.text(0, 2, \"lunch\", size=16, color=blue)\n",
        "ax.text(30, 6.5, \"dinner\", size=16, color=green)\n"
      ],
      "execution_count": 0,
      "outputs": [
        {
          "output_type": "execute_result",
          "data": {
            "text/plain": [
              "Text(30, 6.5, 'dinner')"
            ]
          },
          "metadata": {
            "tags": []
          },
          "execution_count": 7
        },
        {
          "output_type": "display_data",
          "data": {
            "image/png": "[encoded data removed]",
            "text/plain": [
              "<Figure size 720x720 with 1 Axes>"
            ]
          },
          "metadata": {
            "tags": []
          }
        }
      ]
    },
    {
      "cell_type": "markdown",
      "metadata": {
        "id": "YRDIe32JkwxR",
        "colab_type": "text"
      },
      "source": [
        "![graph](https://github.com/alexayanar/dsc2/blob/master/Screen%20Shot%202020-04-13%20at%2022.42.44.png?raw=true)\n",
        "\n",
        "In the end, the graph should look like this!"
      ]
    }
  ]
}